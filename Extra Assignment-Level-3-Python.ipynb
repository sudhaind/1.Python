{
 "cells": [
  {
   "cell_type": "code",
   "execution_count": null,
   "id": "4404d9b1",
   "metadata": {},
   "outputs": [],
   "source": [
    "#print 'CORRECT' if i==10"
   ]
  },
  {
   "cell_type": "code",
   "execution_count": 1,
   "id": "b73c7fdc",
   "metadata": {},
   "outputs": [
    {
     "name": "stdout",
     "output_type": "stream",
     "text": [
      "value: 10\n",
      "Correct\n"
     ]
    }
   ],
   "source": [
    "i =10\n",
    "\n",
    "if(i==10):\n",
    "    print('value:',i)\n",
    "    print('Correct')"
   ]
  },
  {
   "cell_type": "code",
   "execution_count": 5,
   "id": "52b888d2",
   "metadata": {},
   "outputs": [
    {
     "name": "stdout",
     "output_type": "stream",
     "text": [
      "Enter the password:HOPE@123\n",
      "Your password is correct\n"
     ]
    }
   ],
   "source": [
    "#Check the password,using if and else\n",
    "\n",
    "password ='HOPE@123'\n",
    "\n",
    "value = input('Enter the password:')\n",
    "\n",
    "if(value==password):\n",
    "    print('Your password is correct')\n",
    "else:\n",
    "    print('Your password is wrong')\n"
   ]
  },
  {
   "cell_type": "code",
   "execution_count": 15,
   "id": "ea8cae03",
   "metadata": {},
   "outputs": [
    {
     "name": "stdout",
     "output_type": "stream",
     "text": [
      "age :20\n",
      "Adult\n"
     ]
    }
   ],
   "source": [
    "#Category the people by their age like children,adult,citizen,senior citizen ..\n",
    "age =int(input('age :'))\n",
    "if(age <= 14):\n",
    "    print('Children')\n",
    "elif(age >14) and (age <=19):\n",
    "    print('Youth')\n",
    "elif((age >19) and (age <=50)):\n",
    "    print('Adult')\n",
    "elif(age > 50) and (age <=64):\n",
    "    print('Citizen')\n",
    "else:\n",
    "    print('Senior citizen')\n",
    "    "
   ]
  },
  {
   "cell_type": "code",
   "execution_count": 21,
   "id": "fe2e10f5",
   "metadata": {},
   "outputs": [
    {
     "name": "stdout",
     "output_type": "stream",
     "text": [
      "Enter any number: 1\n",
      "No is positive\n"
     ]
    }
   ],
   "source": [
    "#Find whether given number is positive or negative\n",
    "i =int(input(\"Enter any number: \"))\n",
    "\n",
    "if(i >0):\n",
    "    print('No is positive')\n",
    "elif(i==0):\n",
    "    print('No is neither positive nor negative')\n",
    "else:\n",
    "    print('No is negative')\n"
   ]
  },
  {
   "cell_type": "code",
   "execution_count": 29,
   "id": "648542e1",
   "metadata": {},
   "outputs": [
    {
     "name": "stdout",
     "output_type": "stream",
     "text": [
      "Enter a number to check : 22\n",
      "No is not divisible by 5\n"
     ]
    }
   ],
   "source": [
    "#Check whether the given number is divisible by 5\n",
    "i=int(input(\"Enter a number to check : \"))\n",
    "if(i%5==0):\n",
    "    print(\"No is divisible by 5\")\n",
    "else: \n",
    "    print(\"No is not divisible by 5\")\n",
    "\n",
    "    "
   ]
  },
  {
   "cell_type": "code",
   "execution_count": null,
   "id": "d76e1f8c",
   "metadata": {},
   "outputs": [],
   "source": []
  }
 ],
 "metadata": {
  "kernelspec": {
   "display_name": "Python 3 (ipykernel)",
   "language": "python",
   "name": "python3"
  },
  "language_info": {
   "codemirror_mode": {
    "name": "ipython",
    "version": 3
   },
   "file_extension": ".py",
   "mimetype": "text/x-python",
   "name": "python",
   "nbconvert_exporter": "python",
   "pygments_lexer": "ipython3",
   "version": "3.11.4"
  }
 },
 "nbformat": 4,
 "nbformat_minor": 5
}
