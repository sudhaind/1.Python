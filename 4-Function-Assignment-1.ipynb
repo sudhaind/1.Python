{
 "cells": [
  {
   "cell_type": "code",
   "execution_count": null,
   "id": "47475a08",
   "metadata": {},
   "outputs": [],
   "source": [
    "#Create Function"
   ]
  },
  {
   "cell_type": "code",
   "execution_count": 4,
   "id": "baadbc4d",
   "metadata": {},
   "outputs": [],
   "source": [
    "def Subfields():\n",
    "    print(\"Sub-fields in AI are:\")\n",
    "    print(\"Machine Learning\")\n",
    "    print(\"Neural Networks\")\n",
    "    print(\"Vision\")\n",
    "    print(\"Robotics\")\n",
    "    print(\"Speech Processing\")\n",
    "    print(\"Natural Language Processing\")"
   ]
  },
  {
   "cell_type": "code",
   "execution_count": 5,
   "id": "9392babd",
   "metadata": {},
   "outputs": [
    {
     "name": "stdout",
     "output_type": "stream",
     "text": [
      "Sub-fields in AI are:\n",
      "Machine Learning\n",
      "Neural Networks\n",
      "Vision\n",
      "Robotics\n",
      "Speech Processing\n",
      "Natural Language Processing\n"
     ]
    }
   ],
   "source": [
    "Subfields()"
   ]
  },
  {
   "cell_type": "code",
   "execution_count": null,
   "id": "df369617",
   "metadata": {},
   "outputs": [],
   "source": [
    "#Create Function"
   ]
  },
  {
   "cell_type": "code",
   "execution_count": 6,
   "id": "00b1fc02",
   "metadata": {},
   "outputs": [],
   "source": [
    "def OddEven():\n",
    "    num =int(input(\"Enter a number: \"))\n",
    "    if((num%2)==0):\n",
    "        print(num,\"is Even number\")\n",
    "    else:\n",
    "        print(num,\"is Odd number\")"
   ]
  },
  {
   "cell_type": "code",
   "execution_count": 8,
   "id": "a27d9b3b",
   "metadata": {},
   "outputs": [
    {
     "name": "stdout",
     "output_type": "stream",
     "text": [
      "Enter a number: 4\n",
      "4 is Even number\n"
     ]
    }
   ],
   "source": [
    "OddEven()"
   ]
  },
  {
   "cell_type": "code",
   "execution_count": null,
   "id": "783cae3a",
   "metadata": {},
   "outputs": [],
   "source": [
    "#Create Function"
   ]
  },
  {
   "cell_type": "code",
   "execution_count": 17,
   "id": "2cfad2bd",
   "metadata": {},
   "outputs": [],
   "source": [
    "def Eligible():\n",
    "    gender =input(\"Your Gender:\")\n",
    "    age    =int(input(\"Your Age:\"))\n",
    "    if((gender=='Male') and(age==18)):\n",
    "        print(\"NOT ELIGIBLE\")"
   ]
  },
  {
   "cell_type": "code",
   "execution_count": 18,
   "id": "7766aca7",
   "metadata": {},
   "outputs": [
    {
     "name": "stdout",
     "output_type": "stream",
     "text": [
      "Your Gender:Male\n",
      "Your Age:18\n",
      "NOT ELIGIBLE\n"
     ]
    }
   ],
   "source": [
    "Eligible()"
   ]
  },
  {
   "cell_type": "code",
   "execution_count": 29,
   "id": "0ca477b9",
   "metadata": {},
   "outputs": [],
   "source": [
    "def percentage():\n",
    "    num1=int(input(\"Subject1=\"))\n",
    "    num2=int(input(\"Subject2=\"))\n",
    "    num3=int(input(\"Subject3=\"))\n",
    "    num4=int(input(\"Subject4=\"))\n",
    "    num5=int(input(\"Subject5=\"))\n",
    "    Total =num1+num2+num3+num4+num5\n",
    "    Percentage=(Total/5)\n",
    "    print(\"Total  :\",Total)\n",
    "    print(\"Percentage  :\",Percentage)\n"
   ]
  },
  {
   "cell_type": "code",
   "execution_count": 30,
   "id": "fdb554f6",
   "metadata": {},
   "outputs": [
    {
     "name": "stdout",
     "output_type": "stream",
     "text": [
      "Subject1=23\n",
      "Subject2=45\n",
      "Subject3=34\n",
      "Subject4=23\n",
      "Subject5=23\n",
      "Total  : 148\n",
      "Percentage  : 29.6\n"
     ]
    }
   ],
   "source": [
    "percentage()"
   ]
  },
  {
   "cell_type": "code",
   "execution_count": 41,
   "id": "7b10df00",
   "metadata": {},
   "outputs": [],
   "source": [
    "def triangle():\n",
    "    Height=int(input(\"Height:\"))\n",
    "    Breadth=int(input(\"Breadth:\"))\n",
    "    print(\"Area formula: (Height*Breadth)/2\")\n",
    "    area=(Height*Breadth)/2\n",
    "    print(\"Area of Triangle: \",area)\n",
    "    Height1=int(input(\"Height1:\"))\n",
    "    Height2=int(input(\"Height2:\"))\n",
    "    Breadth=int(input(\"Breadth:\"))\n",
    "    print(\"Perimeter formula : Height1+Height2+Breadth\")\n",
    "    perimeterOfT=Height1+Height2+Breadth\n",
    "    print(\"Perimeter of Triangle :\",perimeterOfT)"
   ]
  },
  {
   "cell_type": "code",
   "execution_count": 42,
   "id": "4fc0281b",
   "metadata": {},
   "outputs": [
    {
     "name": "stdout",
     "output_type": "stream",
     "text": [
      "Height:3\n",
      "Breadth:4\n",
      "Area formula: (Height*Breadth)/2\n",
      "Area of Triangle:  6.0\n",
      "Height1:3\n",
      "Height2:4\n",
      "Breadth:45\n",
      "Perimeter formula : Height1+Height2+Breadth\n",
      "Perimeter of Triangle : 52\n"
     ]
    }
   ],
   "source": [
    "triangle()"
   ]
  },
  {
   "cell_type": "code",
   "execution_count": null,
   "id": "98fa0248",
   "metadata": {},
   "outputs": [],
   "source": []
  }
 ],
 "metadata": {
  "kernelspec": {
   "display_name": "Python 3 (ipykernel)",
   "language": "python",
   "name": "python3"
  },
  "language_info": {
   "codemirror_mode": {
    "name": "ipython",
    "version": 3
   },
   "file_extension": ".py",
   "mimetype": "text/x-python",
   "name": "python",
   "nbconvert_exporter": "python",
   "pygments_lexer": "ipython3",
   "version": "3.11.4"
  }
 },
 "nbformat": 4,
 "nbformat_minor": 5
}
