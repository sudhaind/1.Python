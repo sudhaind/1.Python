{
 "cells": [
  {
   "cell_type": "code",
   "execution_count": 2,
   "id": "6af5a66c",
   "metadata": {},
   "outputs": [],
   "source": [
    "from SingleClassWithMultipleFunctions import Assignments\n"
   ]
  },
  {
   "cell_type": "code",
   "execution_count": 3,
   "id": "98811ab8",
   "metadata": {},
   "outputs": [
    {
     "name": "stdout",
     "output_type": "stream",
     "text": [
      "Sub-fields in AI are:\n",
      "Machine Learning\n",
      "Neural Networks\n",
      "Vision\n",
      "Robotics\n",
      "Speech Processing\n",
      "Natural Language Processing\n"
     ]
    }
   ],
   "source": [
    "Assignments.Subfields()"
   ]
  },
  {
   "cell_type": "code",
   "execution_count": null,
   "id": "098f3b94",
   "metadata": {},
   "outputs": [],
   "source": [
    "#create a function that checks whether the given number is odd or Even"
   ]
  },
  {
   "cell_type": "code",
   "execution_count": 4,
   "id": "9db57ef8",
   "metadata": {},
   "outputs": [
    {
     "name": "stdout",
     "output_type": "stream",
     "text": [
      "Enter a number: 52452\n",
      "52452 is Even number\n"
     ]
    }
   ],
   "source": [
    "Assignments.OddEven()"
   ]
  },
  {
   "cell_type": "code",
   "execution_count": null,
   "id": "1f0360e8",
   "metadata": {},
   "outputs": [],
   "source": [
    "#Create a function that tells eligibilty of marriage for male and female according to their age limit\n",
    "#like 21 for male and 18 for female"
   ]
  },
  {
   "cell_type": "code",
   "execution_count": 6,
   "id": "fb622d82",
   "metadata": {},
   "outputs": [
    {
     "name": "stdout",
     "output_type": "stream",
     "text": [
      "Your Gender:Male\n",
      "Your Age:20\n",
      "NOT ELIGIBLE\n"
     ]
    }
   ],
   "source": [
    "Assignments.Eligible()"
   ]
  },
  {
   "cell_type": "code",
   "execution_count": null,
   "id": "f4833b0a",
   "metadata": {},
   "outputs": [],
   "source": [
    "#calculate the percentage of your 10th mark"
   ]
  },
  {
   "cell_type": "code",
   "execution_count": 5,
   "id": "d71ee060",
   "metadata": {},
   "outputs": [
    {
     "name": "stdout",
     "output_type": "stream",
     "text": [
      "Subject1=98\n",
      "Subject2=87\n",
      "Subject3=95\n",
      "Subject4=95\n",
      "Subject5=93\n",
      "Total  : 468\n",
      "Percentage  : 93.6\n"
     ]
    }
   ],
   "source": [
    "Assignments.percentage()"
   ]
  },
  {
   "cell_type": "code",
   "execution_count": null,
   "id": "10e27c7f",
   "metadata": {},
   "outputs": [],
   "source": [
    "#print area and perimeter of triangle class and functions"
   ]
  },
  {
   "cell_type": "code",
   "execution_count": 7,
   "id": "7110541b",
   "metadata": {},
   "outputs": [
    {
     "name": "stdout",
     "output_type": "stream",
     "text": [
      "Height:32\n",
      "Breadth:34\n",
      "Area formula: (Height*Breadth)/2\n",
      "Area of Triangle:  544.0\n",
      "Height1:2\n",
      "Height2:4\n",
      "Breadth:4\n",
      "Perimeter formula : Height1+Height2+Breadth\n",
      "Perimeter of Triangle : 10\n"
     ]
    }
   ],
   "source": [
    "Assignments.triangle()"
   ]
  },
  {
   "cell_type": "code",
   "execution_count": null,
   "id": "a089e6c2",
   "metadata": {},
   "outputs": [],
   "source": []
  }
 ],
 "metadata": {
  "kernelspec": {
   "display_name": "Python 3 (ipykernel)",
   "language": "python",
   "name": "python3"
  },
  "language_info": {
   "codemirror_mode": {
    "name": "ipython",
    "version": 3
   },
   "file_extension": ".py",
   "mimetype": "text/x-python",
   "name": "python",
   "nbconvert_exporter": "python",
   "pygments_lexer": "ipython3",
   "version": "3.11.4"
  }
 },
 "nbformat": 4,
 "nbformat_minor": 5
}
