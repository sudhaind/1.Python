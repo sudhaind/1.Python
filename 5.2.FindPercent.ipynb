{
 "cells": [
  {
   "cell_type": "code",
   "execution_count": 3,
   "id": "5d118c37",
   "metadata": {},
   "outputs": [],
   "source": [
    "class FindPercent():\n",
    "    def percentage():\n",
    "        num1=int(input(\"Subject1=\"))\n",
    "        num2=int(input(\"Subject2=\"))\n",
    "        num3=int(input(\"Subject3=\"))\n",
    "        num4=int(input(\"Subject4=\"))\n",
    "        num5=int(input(\"Subject5=\"))\n",
    "        Total =num1+num2+num3+num4+num5\n",
    "        Percentage=(Total/5)\n",
    "        print(\"Total  :\",Total)\n",
    "        print(\"Percentage  :\",Percentage)\n"
   ]
  },
  {
   "cell_type": "code",
   "execution_count": null,
   "id": "11583d38",
   "metadata": {},
   "outputs": [],
   "source": [
    "FindPercent.percentage()"
   ]
  },
  {
   "cell_type": "code",
   "execution_count": null,
   "id": "5d29cd24",
   "metadata": {},
   "outputs": [],
   "source": []
  }
 ],
 "metadata": {
  "kernelspec": {
   "display_name": "Python 3 (ipykernel)",
   "language": "python",
   "name": "python3"
  },
  "language_info": {
   "codemirror_mode": {
    "name": "ipython",
    "version": 3
   },
   "file_extension": ".py",
   "mimetype": "text/x-python",
   "name": "python",
   "nbconvert_exporter": "python",
   "pygments_lexer": "ipython3",
   "version": "3.11.4"
  }
 },
 "nbformat": 4,
 "nbformat_minor": 5
}
