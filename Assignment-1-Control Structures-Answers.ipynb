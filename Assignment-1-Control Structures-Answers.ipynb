{
 "cells": [
  {
   "cell_type": "code",
   "execution_count": 2,
   "id": "558a5c2f",
   "metadata": {},
   "outputs": [
    {
     "name": "stdout",
     "output_type": "stream",
     "text": [
      "Welcome to Assignment-1\n"
     ]
    }
   ],
   "source": [
    "print(\"Welcome to Assignment-1\")"
   ]
  },
  {
   "cell_type": "code",
   "execution_count": null,
   "id": "11e2942c",
   "metadata": {},
   "outputs": [],
   "source": []
  },
  {
   "cell_type": "code",
   "execution_count": 4,
   "id": "ecc0d00e",
   "metadata": {},
   "outputs": [
    {
     "name": "stdout",
     "output_type": "stream",
     "text": [
      "Num1=  10\n",
      "Num2=  30\n",
      "Add=  40\n"
     ]
    }
   ],
   "source": [
    "Num1=10\n",
    "Num2=30\n",
    "Add=Num1+Num2\n",
    "print(\"Num1= \",Num1)\n",
    "print(\"Num2= \",Num2)\n",
    "print(\"Add= \",Add)"
   ]
  },
  {
   "cell_type": "code",
   "execution_count": null,
   "id": "5e8e88e6",
   "metadata": {},
   "outputs": [],
   "source": [
    "#Body Mass Index"
   ]
  },
  {
   "cell_type": "code",
   "execution_count": null,
   "id": "4d2c56f4",
   "metadata": {},
   "outputs": [],
   "source": []
  },
  {
   "cell_type": "code",
   "execution_count": 15,
   "id": "452f7c65",
   "metadata": {},
   "outputs": [
    {
     "name": "stdout",
     "output_type": "stream",
     "text": [
      "Enter the BMI Index:34\n",
      "Very Overweight\n"
     ]
    }
   ],
   "source": [
    "BMI =int(input(\"Enter the BMI Index:\"))\n",
    "\n",
    "if(BMI <=18):\n",
    "    print(\"Underweight\")\n",
    "elif((BMI >=18) and (BMI<=25)):\n",
    "    print(\"Healthyweight\")\n",
    "elif((BMI >=26) and (BMI <=30)):\n",
    "    print(\"Overweight\")\n",
    "elif((BMI >=31) and (BMI <=34)):\n",
    "    print(\"Very Overweight\")\n",
    "else:\n",
    "    print(\"Obese\")"
   ]
  },
  {
   "cell_type": "code",
   "execution_count": null,
   "id": "5c3391d6",
   "metadata": {},
   "outputs": [],
   "source": []
  }
 ],
 "metadata": {
  "kernelspec": {
   "display_name": "Python 3 (ipykernel)",
   "language": "python",
   "name": "python3"
  },
  "language_info": {
   "codemirror_mode": {
    "name": "ipython",
    "version": 3
   },
   "file_extension": ".py",
   "mimetype": "text/x-python",
   "name": "python",
   "nbconvert_exporter": "python",
   "pygments_lexer": "ipython3",
   "version": "3.11.4"
  }
 },
 "nbformat": 4,
 "nbformat_minor": 5
}
